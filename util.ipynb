{
 "cells": [
  {
   "cell_type": "code",
   "execution_count": 2,
   "metadata": {},
   "outputs": [
    {
     "name": "stdout",
     "output_type": "stream",
     "text": [
      "torch.Size([50, 512, 7, 7])\n"
     ]
    }
   ],
   "source": [
    "from fightingcv_attention.attention.CBAM import CBAMBlock\n",
    "import torch\n",
    "\n",
    "input=torch.randn(50,512,7,7)\n",
    "kernel_size=input.shape[2]\n",
    "cbam = CBAMBlock(channel=512,reduction=16,kernel_size=kernel_size)\n",
    "output=cbam(input)\n",
    "print(output.shape)"
   ]
  },
  {
   "cell_type": "code",
   "execution_count": 1,
   "metadata": {},
   "outputs": [],
   "source": []
  },
  {
   "cell_type": "code",
   "execution_count": 3,
   "metadata": {},
   "outputs": [
    {
     "name": "stdout",
     "output_type": "stream",
     "text": [
      "PFC init ...\n",
      "cls head init...\n",
      "torch.Size([2, 3, 224, 224])\n"
     ]
    }
   ],
   "source": [
    "\n",
    "\n"
   ]
  },
  {
   "cell_type": "code",
   "execution_count": null,
   "metadata": {},
   "outputs": [],
   "source": []
  }
 ],
 "metadata": {
  "kernelspec": {
   "display_name": "base",
   "language": "python",
   "name": "python3"
  },
  "language_info": {
   "codemirror_mode": {
    "name": "ipython",
    "version": 3
   },
   "file_extension": ".py",
   "mimetype": "text/x-python",
   "name": "python",
   "nbconvert_exporter": "python",
   "pygments_lexer": "ipython3",
   "version": "3.7.4"
  },
  "orig_nbformat": 4,
  "vscode": {
   "interpreter": {
    "hash": "e4dbafc40d2484690a4d53716bd3f6fed5b23010f462f93ed1087f9ca6c47bf3"
   }
  }
 },
 "nbformat": 4,
 "nbformat_minor": 2
}
